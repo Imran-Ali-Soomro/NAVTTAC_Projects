{
 "cells": [
  {
   "cell_type": "markdown",
   "metadata": {},
   "source": [
    "## Machine Learning"
   ]
  },
  {
   "cell_type": "markdown",
   "metadata": {},
   "source": [
    "Data==>Preprocessing\n",
    "       - Noise/Outliers\n",
    "       - Filtering/smoothing\n",
    "       - Feature Scalling/normalization\n",
    "\n",
    "Data Augmentation==> - feature Extraction\n",
    "                     - Feature Selection\n",
    "                     - EDA (Descriptive and Infrantial statistics)\n",
    "ML => Algorithm\n",
    "    Model Selection\n",
    "    Training\n",
    "    Hyperparametric Training\n",
    "    Optimazation\n",
    "\n",
    "Testing     ======>   postprocessing               ======>   Deployment\n",
    "                        - Descriptive and Infrantial Satistics\n",
    "\n",
    "\n",
    "filter size, variable inside it, \n",
    "number of iteration is also known as Epox\n",
    "hyperparameters and model parameters\n",
    "before start training the data we give are hyperparameter ()\n",
    "the data that is given during the trining are model parameter (value of filter)\n",
    "\n",
    "Categories==>Classification\n",
    "Real numbers===>Regreson\n",
    "\n",
    "\n",
    "-1 to 1 ==> \n",
    "0 to 1 ==> "
   ]
  },
  {
   "cell_type": "markdown",
   "metadata": {},
   "source": [
    "1. Mind Reading\n",
    "2. No need of screen(Visual through Holograms)\n",
    "3. Assistant inside the Brain\n",
    "4. Eye lenses which can see through the walls and inside the body cells.\n",
    "5. A chip that improves logical and memory power of human\n",
    "6. A chip that can give more strength and stamina in Human Body.\n",
    "7. Autonomous Flights/Planes/Jets Maintenance\n",
    "8. Digitalized Books(the books that include videos instead of text)\n",
    "9. A doctor in your pocket (detection and cure of a disease)\n",
    "10. The world tour sitting at Home."
   ]
  },
  {
   "cell_type": "code",
   "execution_count": 3,
   "metadata": {},
   "outputs": [
    {
     "name": "stdout",
     "output_type": "stream",
     "text": [
      "   Tissue Concentration  Test Score\n",
      "0                  1.17       78.93\n",
      "1                  2.97       58.20\n",
      "2                  3.26       67.47\n",
      "3                  4.69       37.47\n",
      "4                  5.83       45.65\n",
      "[[1.17]\n",
      " [2.97]\n",
      " [3.26]\n",
      " [4.69]\n",
      " [5.83]\n",
      " [6.  ]\n",
      " [6.41]]\n",
      "[[78.93]\n",
      " [58.2 ]\n",
      " [67.47]\n",
      " [37.47]\n",
      " [45.65]\n",
      " [32.92]\n",
      " [29.97]]\n"
     ]
    },
    {
     "data": {
      "image/png": "[encoded data removed]",
      "text/plain": [
       "<Figure size 432x288 with 1 Axes>"
      ]
     },
     "metadata": {
      "needs_background": "light"
     },
     "output_type": "display_data"
    }
   ],
   "source": [
    "import pandas as pd\n",
    "import matplotlib.pyplot as plt\n",
    "from sklearn.linear_model import LinearRegression\n",
    "data = pd.read_csv(\"abc.csv\")\n",
    "print(data.head())\n",
    "X = data['Tissue Concentration']\n",
    "y = data['Test Score']\n",
    "X=X.values.reshape(len(X),1)\n",
    "y=y.values.reshape(len(y),1)\n",
    "print(X)\n",
    "print(y)\n",
    "model = LinearRegression()\n",
    "model.fit(X, y)\n",
    "plt.scatter(X, y,color='r')\n",
    "plt.plot(X, model.predict(X),color='k')\n",
    "plt.show()"
   ]
  },
  {
   "cell_type": "code",
   "execution_count": 4,
   "metadata": {},
   "outputs": [
    {
     "data": {
      "text/plain": [
       "0.8778349707775888"
      ]
     },
     "execution_count": 4,
     "metadata": {},
     "output_type": "execute_result"
    }
   ],
   "source": [
    "model.score(X,y)"
   ]
  },
  {
   "cell_type": "code",
   "execution_count": 6,
   "metadata": {},
   "outputs": [
    {
     "data": {
      "text/plain": [
       "array([[53.08600811]])"
      ]
     },
     "execution_count": 6,
     "metadata": {},
     "output_type": "execute_result"
    }
   ],
   "source": [
    "model.predict([[4]])"
   ]
  },
  {
   "cell_type": "code",
   "execution_count": 1,
   "metadata": {},
   "outputs": [
    {
     "name": "stdout",
     "output_type": "stream",
     "text": [
      "   Tissue Concentration  Test Score\n",
      "0                  1.17       78.93\n",
      "1                  2.97       58.20\n",
      "2                  3.26       67.47\n",
      "3                  4.69       37.47\n",
      "4                  5.83       45.65\n",
      "[[1.17]\n",
      " [2.97]\n",
      " [3.26]\n",
      " [4.69]\n",
      " [5.83]\n",
      " [6.  ]\n",
      " [6.41]\n",
      " [6.89]\n",
      " [7.3 ]\n",
      " [7.94]\n",
      " [8.9 ]]\n",
      "[[78.93]\n",
      " [58.2 ]\n",
      " [67.47]\n",
      " [37.47]\n",
      " [45.65]\n",
      " [32.92]\n",
      " [29.97]\n",
      " [29.3 ]\n",
      " [27.56]\n",
      " [25.34]\n",
      " [30.  ]]\n"
     ]
    },
    {
     "data": {
      "image/png": "[encoded data removed]",
      "text/plain": [
       "<Figure size 432x288 with 1 Axes>"
      ]
     },
     "metadata": {
      "needs_background": "light"
     },
     "output_type": "display_data"
    }
   ],
   "source": [
    "import pandas as pd\n",
    "import matplotlib.pyplot as plt\n",
    "from sklearn.linear_model import LinearRegression\n",
    "data = pd.read_csv(\"abc.csv\")\n",
    "print(data.head())\n",
    "X = data['Tissue Concentration']\n",
    "y = data['Test Score']\n",
    "X=X.values.reshape(len(X),1)\n",
    "y=y.values.reshape(len(y),1)\n",
    "print(X)\n",
    "print(y)\n",
    "model = LinearRegression()\n",
    "model.fit(X, y)\n",
    "plt.scatter(X, y,color='r')\n",
    "plt.plot(X, model.predict(X),color='k')\n",
    "plt.show()"
   ]
  },
  {
   "cell_type": "code",
   "execution_count": 2,
   "metadata": {},
   "outputs": [
    {
     "data": {
      "text/plain": [
       "0.8528172446402114"
      ]
     },
     "execution_count": 2,
     "metadata": {},
     "output_type": "execute_result"
    }
   ],
   "source": [
    "model.score(X,y)"
   ]
  },
  {
   "cell_type": "code",
   "execution_count": 3,
   "metadata": {},
   "outputs": [
    {
     "name": "stdout",
     "output_type": "stream",
     "text": [
      "   Tissue Concentration  Test Score\n",
      "0                  1.17       78.93\n",
      "1                  2.97       58.20\n",
      "2                  3.26       67.47\n",
      "3                  4.69       37.47\n",
      "4                  5.83       45.65\n",
      "[[1.17]\n",
      " [2.97]\n",
      " [3.26]\n",
      " [4.69]\n",
      " [5.83]\n",
      " [6.  ]\n",
      " [6.41]\n",
      " [6.89]\n",
      " [7.3 ]\n",
      " [7.94]\n",
      " [8.9 ]]\n",
      "[[78.93]\n",
      " [58.2 ]\n",
      " [67.47]\n",
      " [37.47]\n",
      " [45.65]\n",
      " [32.92]\n",
      " [29.97]\n",
      " [29.3 ]\n",
      " [27.56]\n",
      " [25.34]\n",
      " [30.  ]]\n"
     ]
    },
    {
     "data": {
      "image/png": "[encoded data removed]",
      "text/plain": [
       "<Figure size 432x288 with 1 Axes>"
      ]
     },
     "metadata": {
      "needs_background": "light"
     },
     "output_type": "display_data"
    }
   ],
   "source": [
    "# change the nuber of data\n",
    "import pandas as pd\n",
    "import matplotlib.pyplot as plt\n",
    "from sklearn.linear_model import LinearRegression\n",
    "data = pd.read_csv(\"abc.csv\")\n",
    "print(data.head())\n",
    "X = data['Tissue Concentration']\n",
    "y = data['Test Score']\n",
    "X=X.values.reshape(len(X),1)\n",
    "y=y.values.reshape(len(y),1)\n",
    "print(X)\n",
    "print(y)\n",
    "model = LinearRegression()\n",
    "model.fit(X, y)\n",
    "plt.scatter(X, y,color='r')\n",
    "plt.plot(X, model.predict(X),color='k')\n",
    "plt.show()"
   ]
  },
  {
   "cell_type": "code",
   "execution_count": 4,
   "metadata": {},
   "outputs": [
    {
     "data": {
      "text/plain": [
       "0.8528172446402114"
      ]
     },
     "execution_count": 4,
     "metadata": {},
     "output_type": "execute_result"
    }
   ],
   "source": [
    "model.score(X,y)"
   ]
  },
  {
   "cell_type": "code",
   "execution_count": 1,
   "metadata": {},
   "outputs": [
    {
     "name": "stdout",
     "output_type": "stream",
     "text": [
      "   Hours  Scores\n",
      "0    2.5      21\n",
      "1    5.1      47\n",
      "2    3.2      27\n",
      "3    8.5      75\n",
      "4    3.5      30\n",
      "[[2.5]\n",
      " [5.1]\n",
      " [3.2]\n",
      " [8.5]\n",
      " [3.5]\n",
      " [1.5]\n",
      " [9.2]\n",
      " [5.5]\n",
      " [8.3]\n",
      " [2.7]\n",
      " [7.7]\n",
      " [5.9]\n",
      " [4.5]\n",
      " [3.3]\n",
      " [1.1]\n",
      " [8.9]\n",
      " [2.5]\n",
      " [1.9]\n",
      " [6.1]\n",
      " [7.4]\n",
      " [2.7]\n",
      " [4.8]\n",
      " [3.8]\n",
      " [6.9]\n",
      " [7.8]]\n",
      "[[21]\n",
      " [47]\n",
      " [27]\n",
      " [75]\n",
      " [30]\n",
      " [20]\n",
      " [88]\n",
      " [60]\n",
      " [81]\n",
      " [25]\n",
      " [85]\n",
      " [62]\n",
      " [41]\n",
      " [42]\n",
      " [17]\n",
      " [95]\n",
      " [30]\n",
      " [24]\n",
      " [67]\n",
      " [69]\n",
      " [30]\n",
      " [54]\n",
      " [35]\n",
      " [76]\n",
      " [86]]\n"
     ]
    },
    {
     "data": {
      "image/png": "[encoded data removed]",
      "text/plain": [
       "<Figure size 432x288 with 1 Axes>"
      ]
     },
     "metadata": {
      "needs_background": "light"
     },
     "output_type": "display_data"
    }
   ],
   "source": [
    "import pandas as pd\n",
    "import matplotlib.pyplot as plt\n",
    "from sklearn.linear_model import LinearRegression\n",
    "data = pd.read_csv(\"score.csv\")\n",
    "print(data.head())\n",
    "X = data['Hours']\n",
    "y = data['Scores']\n",
    "X=X.values.reshape(len(X),1)\n",
    "y=y.values.reshape(len(y),1)\n",
    "print(X)\n",
    "print(y)\n",
    "model = LinearRegression()\n",
    "model.fit(X, y)\n",
    "plt.scatter(X, y,color='r')\n",
    "plt.plot(X, model.predict(X),color='k')\n",
    "plt.show()"
   ]
  }
 ],
 "metadata": {
  "kernelspec": {
   "display_name": "Python 3.10.0 64-bit",
   "language": "python",
   "name": "python3"
  },
  "language_info": {
   "codemirror_mode": {
    "name": "ipython",
    "version": 3
   },
   "file_extension": ".py",
   "mimetype": "text/x-python",
   "name": "python",
   "nbconvert_exporter": "python",
   "pygments_lexer": "ipython3",
   "version": "3.10.0"
  },
  "orig_nbformat": 4,
  "vscode": {
   "interpreter": {
    "hash": "f9f548c2a1e31bee259243eb3cadef8e3f5df494eebd1547b8501ebadceda8c5"
   }
  }
 },
 "nbformat": 4,
 "nbformat_minor": 2
}
